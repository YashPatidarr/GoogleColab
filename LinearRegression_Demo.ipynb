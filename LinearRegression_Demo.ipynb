{
  "nbformat": 4,
  "nbformat_minor": 0,
  "metadata": {
    "kernelspec": {
      "display_name": "Python 3",
      "language": "python",
      "name": "python3"
    },
    "language_info": {
      "codemirror_mode": {
        "name": "ipython",
        "version": 3
      },
      "file_extension": ".py",
      "mimetype": "text/x-python",
      "name": "python",
      "nbconvert_exporter": "python",
      "pygments_lexer": "ipython3",
      "version": "3.5.2"
    },
    "colab": {
      "name": "LinearRegression.ipynb",
      "provenance": [],
      "include_colab_link": true
    }
  },
  "cells": [
    {
      "cell_type": "markdown",
      "metadata": {
        "id": "view-in-github",
        "colab_type": "text"
      },
      "source": [
        "<a href=\"https://colab.research.google.com/github/Yashdalot/GoogleColab/blob/master/LinearRegression_Demo.ipynb\" target=\"_parent\"><img src=\"https://colab.research.google.com/assets/colab-badge.svg\" alt=\"Open In Colab\"/></a>"
      ]
    },
    {
      "cell_type": "markdown",
      "metadata": {
        "deletable": true,
        "editable": true,
        "id": "KlCYIG2Dk-Sg",
        "colab_type": "text"
      },
      "source": [
        "# Linear Regression"
      ]
    },
    {
      "cell_type": "markdown",
      "metadata": {
        "deletable": true,
        "editable": true,
        "id": "_SyhDYyuk-Sh",
        "colab_type": "text"
      },
      "source": [
        "Let's fabricate some data that shows a roughly linear relationship between page speed and amount purchased:"
      ]
    },
    {
      "cell_type": "code",
      "metadata": {
        "deletable": true,
        "editable": true,
        "id": "gAqGU2jdk-Si",
        "colab_type": "code",
        "colab": {},
        "outputId": "6d5f9729-ada3-4a6d-8de3-d06bee45a082"
      },
      "source": [
        "%matplotlib inline\n",
        "import numpy as np\n",
        "from pylab import *\n",
        "pageSpeeds = np.random.normal(10, 3.0, 1000)\n",
        "purchaseAmount = 100- (pageSpeeds + np.random.normal(0, 0.1, 1000)) * 3\n",
        "\n",
        "scatter(pageSpeeds, purchaseAmount)"
      ],
      "execution_count": 0,
      "outputs": [
        {
          "output_type": "execute_result",
          "data": {
            "text/plain": [
              "<matplotlib.collections.PathCollection at 0x1d11f516e10>"
            ]
          },
          "metadata": {
            "tags": []
          },
          "execution_count": 2
        },
        {
          "output_type": "display_data",
          "data": {
            "image/png": "[encoded data removed]",
            "text/plain": [
              "<matplotlib.figure.Figure at 0x1d11f49e898>"
            ]
          },
          "metadata": {
            "tags": []
          }
        }
      ]
    },
    {
      "cell_type": "markdown",
      "metadata": {
        "deletable": true,
        "editable": true,
        "id": "JoSpjgv0k-Sm",
        "colab_type": "text"
      },
      "source": [
        "As we only have two features, we can keep it simple and just use scipy.state.linregress:"
      ]
    },
    {
      "cell_type": "code",
      "metadata": {
        "deletable": true,
        "editable": true,
        "id": "bIoykE49k-Sn",
        "colab_type": "code",
        "colab": {}
      },
      "source": [
        "from scipy import stats\n",
        "\n",
        "slope, intercept, r_value, p_value, std_err = stats.linregress(pageSpeeds, purchaseAmount)\n"
      ],
      "execution_count": 0,
      "outputs": []
    },
    {
      "cell_type": "markdown",
      "metadata": {
        "deletable": true,
        "editable": true,
        "id": "hFARWClrk-Sq",
        "colab_type": "text"
      },
      "source": [
        "Not surprisngly, our R-squared value shows a really good fit:"
      ]
    },
    {
      "cell_type": "code",
      "metadata": {
        "deletable": true,
        "editable": true,
        "id": "7e_2EJ7dk-Sr",
        "colab_type": "code",
        "colab": {},
        "outputId": "2ffdf7df-a716-472b-8cdb-d21442023d2e"
      },
      "source": [
        "r_value ** 2"
      ],
      "execution_count": 0,
      "outputs": [
        {
          "output_type": "execute_result",
          "data": {
            "text/plain": [
              "0.98933636422743532"
            ]
          },
          "metadata": {
            "tags": []
          },
          "execution_count": 3
        }
      ]
    },
    {
      "cell_type": "markdown",
      "metadata": {
        "deletable": true,
        "editable": true,
        "id": "813jV7WAk-St",
        "colab_type": "text"
      },
      "source": [
        "Let's use the slope and intercept we got from the regression to plot predicted values vs. observed:"
      ]
    },
    {
      "cell_type": "code",
      "metadata": {
        "deletable": true,
        "editable": true,
        "id": "5QQ9U_Adk-Su",
        "colab_type": "code",
        "colab": {},
        "outputId": "0b42ef44-a1fe-4e99-8ee3-2e62c9f40b0f"
      },
      "source": [
        "import matplotlib.pyplot as plt\n",
        "\n",
        "def predict(x):\n",
        "    return slope * x + intercept\n",
        "\n",
        "fitLine = predict(pageSpeeds)\n",
        "plt.scatter(pageSpeeds, purchaseAmount)\n",
        "plt.plot(pageSpeeds, fitLine, c='r')\n",
        "plt.show()"
      ],
      "execution_count": 0,
      "outputs": [
        {
          "output_type": "display_data",
          "data": {
            "image/png": "[encoded data removed]",
            "text/plain": [
              "<matplotlib.figure.Figure at 0x1d121425f28>"
            ]
          },
          "metadata": {
            "tags": []
          }
        }
      ]
    },
    {
      "cell_type": "markdown",
      "metadata": {
        "deletable": true,
        "editable": true,
        "id": "73-AXR3Ok-Sw",
        "colab_type": "text"
      },
      "source": [
        "## Activity"
      ]
    },
    {
      "cell_type": "markdown",
      "metadata": {
        "deletable": true,
        "editable": true,
        "id": "O91EmLIbk-Sx",
        "colab_type": "text"
      },
      "source": [
        "Try increasing the random variation in the test data, and see what effect it has on the r-squared error value."
      ]
    },
    {
      "cell_type": "code",
      "metadata": {
        "deletable": true,
        "editable": true,
        "id": "2MJtJsdTk-Sx",
        "colab_type": "code",
        "colab": {}
      },
      "source": [
        ""
      ],
      "execution_count": 0,
      "outputs": []
    }
  ]
}